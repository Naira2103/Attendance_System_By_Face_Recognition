{
 "cells": [
  {
   "cell_type": "code",
   "execution_count": 22,
   "metadata": {},
   "outputs": [],
   "source": [
    "import cv2\n",
    "import face_recognition\n",
    "import pickle\n",
    "import os\n",
    "import numpy as np\n",
    "import time\n",
    "known_face_encodings = []\n",
    "known_face_names = []\n",
    "try:\n",
    "    with open('known_faces.pkl', 'rb') as f:\n",
    "        known_face_encodings, known_face_names = pickle.load(f)\n",
    "except (FileNotFoundError, EOFError):\n",
    "    train_dir = \"C:\\\\Users\\\\pranamya\\\\Desktop\\\\dataset2\"\n",
    "    if not os.path.exists(train_dir):\n",
    "        print(f\"Training directory '{train_dir}' does not exist.\")\n",
    "        exit()\n",
    "    for person_dir in os.listdir(train_dir):\n",
    "        person_name = person_dir\n",
    "        person_images = os.listdir(os.path.join(train_dir, person_dir))\n",
    "        for person_image in person_images:\n",
    "            image = face_recognition.load_image_file(os.path.join(train_dir, person_dir, person_image))\n",
    "            face_encoding = face_recognition.face_encodings(image)\n",
    "            if len(face_encoding) == 0:\n",
    "                print(f\"No face found in {person_image}\")\n",
    "                continue\n",
    "            face_encoding = face_encoding[0]\n",
    "            known_face_encodings.append(face_encoding)\n",
    "            known_face_names.append(person_name)\n",
    "    with open('known_faces.pkl', 'wb') as f:\n",
    "        pickle.dump((known_face_encodings, known_face_names), f)"
   ]
  },
  {
   "cell_type": "code",
   "execution_count": 23,
   "metadata": {},
   "outputs": [
    {
     "name": "stdout",
     "output_type": "stream",
     "text": [
      "Present Students:\n",
      "Ratikesh   26-08-2023 12:21:11\n"
     ]
    }
   ],
   "source": [
    "# Using real time video capturing\n",
    "# Start the video capture from the webcam\n",
    "person_start_times = {}\n",
    "video_capture = cv2.VideoCapture(0)\n",
    "present_students = set()\n",
    "while True:\n",
    "    # Capture frame-by-frame\n",
    "    ret, frame = video_capture.read()\n",
    "    # Convert the frame to grayscale\n",
    "    gray = cv2.cvtColor(frame, cv2.COLOR_BGR2GRAY)\n",
    "    # Detect faces in the frame\n",
    "    faces = face_recognition.face_locations(gray)\n",
    "    # Iterate over the detected faces\n",
    "    for (top, right, bottom, left) in faces:\n",
    "        # Draw a rectangle around the face\n",
    "        cv2.rectangle(frame, (left, top), (right, bottom), (0, 255, 0), 2)\n",
    "        # Extract the face encoding from the current frame\n",
    "        face_encoding = face_recognition.face_encodings(frame, [(top, right, bottom, left)])[0]\n",
    "        # Compare the face encoding with the encodings of known faces\n",
    "        face_distances = face_recognition.face_distance(known_face_encodings, face_encoding)\n",
    "        min_distance_index = np.argmin(face_distances)\n",
    "        if face_distances[min_distance_index] < 0.5:\n",
    "            name = known_face_names[min_distance_index]\n",
    "            if name not in person_start_times:\n",
    "                person_start_times[name] = time.time()\n",
    "            present_students.add(name)\n",
    "        else:\n",
    "            name = \"Unknown\"\n",
    "        # Draw the name of the person below the face rectangle\n",
    "        cv2.putText(frame, name, (left, bottom + 20), cv2.FONT_HERSHEY_SIMPLEX, 0.6, (0, 255, 0), 1)\n",
    "    # Display the resulting frame\n",
    "    cv2.imshow('Video', frame)\n",
    "    # Break the loop if 'q' is pressed\n",
    "    if cv2.waitKey(1) & 0xFF == ord('q'):\n",
    "        break\n",
    "print(\"Present Students:\")\n",
    "for student in present_students:\n",
    "    local_time = time.localtime(person_start_times[student])\n",
    "    print(student,' ',time.strftime('%d-%m-%Y %H:%M:%S', local_time))\n",
    "# Release the video capture and destroy the windows\n",
    "video_capture.release()\n",
    "cv2.destroyAllWindows()"
   ]
  },
  {
   "cell_type": "code",
   "execution_count": 8,
   "metadata": {},
   "outputs": [
    {
     "name": "stdout",
     "output_type": "stream",
     "text": [
      "Present Students:\n",
      "Naira\n"
     ]
    }
   ],
   "source": [
    "# Using image as an input\n",
    "\n",
    "image = cv2.imread(\"C:\\\\Users\\\\pranamya\\\\Desktop\\\\dataset2\\\\Naira\\\\79b901d3-8017-4ca1-8d42-bff03fffa70a.jpg\")\n",
    "gray = cv2.cvtColor(image, cv2.COLOR_BGR2GRAY)\n",
    "faces = face_recognition.face_locations(gray)\n",
    "present_students = []\n",
    "\n",
    "for (top, right, bottom, left) in faces:\n",
    "    # Draw a rectangle around the face\n",
    "    cv2.rectangle(image, (left, top), (right, bottom), (0, 255, 0), 2)\n",
    "\n",
    "    # Extract the face encoding from the current frame\n",
    "    face_encoding = face_recognition.face_encodings(image, [(top, right, bottom, left)])[0]\n",
    "\n",
    "    # Compare the face encoding with the encodings of known faces\n",
    "    face_distances = face_recognition.face_distance(known_face_encodings, face_encoding)\n",
    "    min_distance_index = np.argmin(face_distances)\n",
    "    if face_distances[min_distance_index] < 0.5:\n",
    "        name = known_face_names[min_distance_index]\n",
    "        present_students.append(name)\n",
    "    else:\n",
    "        name = \"Unknown\"\n",
    "\n",
    "    # Draw the name of the person below the face rectangle\n",
    "    cv2.putText(image, name, (left, bottom + 20), cv2.FONT_HERSHEY_SIMPLEX, 0.6, (0, 255, 0), 1)\n",
    "\n",
    "print(\"Present Students:\")\n",
    "for student in present_students:\n",
    "    print(student)\n",
    "\n",
    "cv2.imshow('Image', image)\n",
    "cv2.waitKey(0) & 0xFF == ord('q')     \n",
    "cv2.destroyAllWindows()\n"
   ]
  }
 ],
 "metadata": {
  "kernelspec": {
   "display_name": "Python 3",
   "language": "python",
   "name": "python3"
  },
  "language_info": {
   "codemirror_mode": {
    "name": "ipython",
    "version": 3
   },
   "file_extension": ".py",
   "mimetype": "text/x-python",
   "name": "python",
   "nbconvert_exporter": "python",
   "pygments_lexer": "ipython3",
   "version": "3.10.7"
  },
  "orig_nbformat": 4
 },
 "nbformat": 4,
 "nbformat_minor": 2
}
